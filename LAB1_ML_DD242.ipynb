{
 "cells": [
  {
   "cell_type": "markdown",
   "metadata": {},
   "source": [
    "## Lab 1 (Machine Learning - DD2421)\n",
    "\n",
    "### Antonio Frederico Nesti Lopes - afnl@kth.se\n",
    "### Theodoros Panagiatakopoulos - thepan@kth.se\n",
    "\n",
    "### Presentation time: FRI 20/09/2019 15:45 \n",
    "\n",
    "------------------------------------------------------------\n",
    "------------------------------------------------------------"
   ]
  },
  {
   "cell_type": "code",
   "execution_count": 4,
   "metadata": {
    "collapsed": true
   },
   "outputs": [],
   "source": [
    "# use packages\n",
    "import monkdata as m\n",
    "import dtree as d\n",
    "import drawtree_qt4 as qt\n",
    "import pandas as pd\n",
    "import random\n",
    "import numpy as np\n",
    "import seaborn as sns"
   ]
  },
  {
   "cell_type": "markdown",
   "metadata": {},
   "source": [
    "## Stating the Problem:\n",
    "\n",
    "### Monk's datasets are a collection of three binary classification problems (True or False) over six attribute discrete domain. All the possible values for the attributes are given in the table below."
   ]
  },
  {
   "cell_type": "code",
   "execution_count": 5,
   "metadata": {
    "collapsed": false
   },
   "outputs": [
    {
     "name": "stdout",
     "output_type": "stream",
     "text": [
      "POSSIBLE OF VALUES FOR EACH ATTRIBUTE:\n"
     ]
    },
    {
     "data": {
      "text/html": [
       "<div>\n",
       "<table border=\"1\" class=\"dataframe\">\n",
       "  <thead>\n",
       "    <tr style=\"text-align: right;\">\n",
       "      <th></th>\n",
       "      <th>Attributes</th>\n",
       "      <th>a1</th>\n",
       "      <th>a2</th>\n",
       "      <th>a3</th>\n",
       "      <th>a4</th>\n",
       "      <th>a5</th>\n",
       "      <th>a6</th>\n",
       "    </tr>\n",
       "  </thead>\n",
       "  <tbody>\n",
       "    <tr>\n",
       "      <th>0</th>\n",
       "      <td>Possible Values</td>\n",
       "      <td>(1, 2, 3)</td>\n",
       "      <td>(1, 2, 3)</td>\n",
       "      <td>(1, 2)</td>\n",
       "      <td>(1, 2, 3)</td>\n",
       "      <td>(1, 2, 3, 4)</td>\n",
       "      <td>(1, 2)</td>\n",
       "    </tr>\n",
       "  </tbody>\n",
       "</table>\n",
       "</div>"
      ],
      "text/plain": [
       "        Attributes         a1         a2      a3         a4            a5  \\\n",
       "0  Possible Values  (1, 2, 3)  (1, 2, 3)  (1, 2)  (1, 2, 3)  (1, 2, 3, 4)   \n",
       "\n",
       "       a6  \n",
       "0  (1, 2)  "
      ]
     },
     "execution_count": 5,
     "metadata": {},
     "output_type": "execute_result"
    }
   ],
   "source": [
    "# Set of values for each attribute:\n",
    "print('POSSIBLE OF VALUES FOR EACH ATTRIBUTE:')\n",
    "\n",
    "df_att_val = pd.DataFrame(\n",
    "    {\n",
    "    \"Attributes\" : [\"Possible Values\"],\n",
    "    \"a1\": [m.attributes[0].values],\n",
    "    \"a2\": [m.attributes[1].values],\n",
    "    \"a3\": [m.attributes[2].values],\n",
    "    \"a4\": [m.attributes[3].values],\n",
    "    \"a5\": [m.attributes[4].values],\n",
    "    \"a6\": [m.attributes[5].values]    \n",
    "    }\n",
    ")\n",
    "df_att_val"
   ]
  },
  {
   "cell_type": "markdown",
   "metadata": {},
   "source": [
    "### Datasets presents True or False classification accordingly to its own generation statement. As follows:\n",
    "\n",
    "#### MONK-1 : $(a_1 = a_2) \\vee (a_5 = 1)$\n",
    "\n",
    "#### MONK-2 : $a_i = 1$ for exactly two $i \\in \\{1,2,...,6\\}$\n",
    "\n",
    "#### MONK-3 : $(a_5 = 1 \\wedge a_4 = 1) \\vee (a_5 \\neq 4 \\wedge a_2 \\neq 3)$\n",
    "\n",
    "### The problem behind decision trees classification is that, considering those generation statements as unknown, we want to come up with a classification method for the datasets.\n",
    "\n",
    "### In order to do so, we will try to build a decision tree based on entropy/information gain criteria using sets for training and testing the model. In the end, it is shown how to prune the tree so as to optimise the answer."
   ]
  },
  {
   "cell_type": "markdown",
   "metadata": {},
   "source": [
    "<h2 style=\"color:rgb(220,30,30);text-decoration:underline;\"> Assignment 0</h2>\n",
    "\n",
    "### Each one of the datasets has properties which makes them hard to learn. Motivate which of the three problems is most difficult for a decision tree algorithm to learn\n",
    "\n",
    "### Motivation (difficulty to learn):\n",
    "\n",
    "### 1) Dataset MONK-1 has 3 possibilities for True-clause against 1 possibility for False-Clause. From the theoretical specifications above, we can notice that this dataset clasification depends only on the values of 3 attributes.\n",
    "\n",
    "### 2) Dataset MONK-2 has much more less possibilities for a True-Clause to appear (very strict clause, we should have EXACTLY 2 numbers equal 1). This dataset classification depends on the values of all the attributes.\n",
    "\n",
    "### 3) Dataset MONK-3 has an addition of 5% noise perturbation. Moreover, this dataset classification depends only on the values of 3 the attributes.\n",
    "\n",
    "### MONK-2 seems to be harder to learn, since its classifications depends on a higher quantity of attributes. Even though, MONK-3's dataset aditional noise (5%) will motivate here our decision about learning difficulty.    \n",
    "\n",
    "### Hypothesis 1: MONK-3 will be more difficult to learn.\n"
   ]
  },
  {
   "cell_type": "code",
   "execution_count": 6,
   "metadata": {
    "collapsed": true,
    "scrolled": false
   },
   "outputs": [],
   "source": [
    "### CALL ALL DATASETS\n",
    "\n",
    "#MONK-1 (train,test)\n",
    "m1 = m.monk1\n",
    "m1_test = m.monk1test\n",
    "#MONK-2 (train,test)\n",
    "m2 = m.monk2\n",
    "m2_test = m.monk2test\n",
    "#MONK-3 (train,test)\n",
    "m3 = m.monk3\n",
    "m3_test = m.monk3test"
   ]
  },
  {
   "cell_type": "markdown",
   "metadata": {},
   "source": [
    "<h2 style=\"color:rgb(220,30,30);text-decoration:underline;\"> Assignment 1</h2>\n",
    "\n",
    "### Entropy for train datasets:\n",
    "\n",
    "### $Entropy(S) = -\\sum_{\\forall i}p_i\\log_2p_i$, where $p_i =$ proportion of examples of class $i \\in S$\n",
    "\n",
    "### OBS: $\\mathbb{E}(i) = \\sum_{\\forall i}i.p_i$"
   ]
  },
  {
   "cell_type": "code",
   "execution_count": 4,
   "metadata": {
    "collapsed": false,
    "scrolled": false
   },
   "outputs": [
    {
     "name": "stdout",
     "output_type": "stream",
     "text": [
      "ENTROPY OF CLASSIFICATION FOR MONK DATASETS\n"
     ]
    },
    {
     "data": {
      "text/html": [
       "<div>\n",
       "<table border=\"1\" class=\"dataframe\">\n",
       "  <thead>\n",
       "    <tr style=\"text-align: right;\">\n",
       "      <th></th>\n",
       "      <th>Dataset</th>\n",
       "      <th>Entropy</th>\n",
       "    </tr>\n",
       "  </thead>\n",
       "  <tbody>\n",
       "    <tr>\n",
       "      <th>0</th>\n",
       "      <td>MONK-1</td>\n",
       "      <td>1.000000</td>\n",
       "    </tr>\n",
       "    <tr>\n",
       "      <th>1</th>\n",
       "      <td>MONK-2</td>\n",
       "      <td>0.957117</td>\n",
       "    </tr>\n",
       "    <tr>\n",
       "      <th>2</th>\n",
       "      <td>MONK-3</td>\n",
       "      <td>0.999806</td>\n",
       "    </tr>\n",
       "  </tbody>\n",
       "</table>\n",
       "</div>"
      ],
      "text/plain": [
       "  Dataset   Entropy\n",
       "0  MONK-1  1.000000\n",
       "1  MONK-2  0.957117\n",
       "2  MONK-3  0.999806"
      ]
     },
     "execution_count": 4,
     "metadata": {},
     "output_type": "execute_result"
    }
   ],
   "source": [
    "# Entropy for train data\n",
    "\n",
    "Em1 = d.entropy(m1)\n",
    "Em2 = d.entropy(m2)\n",
    "Em3 = d.entropy(m3)\n",
    "\n",
    "print('ENTROPY OF CLASSIFICATION FOR MONK DATASETS')\n",
    "df_entr_train = pd.DataFrame(\n",
    "    {\n",
    "    \"Dataset\": ['MONK-1','MONK-2','MONK-3'],\n",
    "    \"Entropy\": [Em1,Em2,Em3]\n",
    "    }\n",
    ")\n",
    "df_entr_train"
   ]
  },
  {
   "cell_type": "markdown",
   "metadata": {},
   "source": [
    "### The higher the entropy, the more unpredictable is the outcome of a given dataset.\n",
    "\n",
    "### Thus, dataset MONK-2, on the contrary, is the most predictable one.  "
   ]
  },
  {
   "cell_type": "markdown",
   "metadata": {},
   "source": [
    "<h2 style=\"color:rgb(220,30,30);text-decoration:underline;\"> Assignment 2</h2>\n",
    "\n",
    "### Explain entropy for a uniform distribution and a non-uniform distribution, present some example distributions with high and low entropy.\n",
    "\n",
    "### A uniform distribution has no clue about what will happen. There is no bias. Therefore,  the entropy will be higher than some modified uniform distribution. To illustrate this statement we consider, the following extreme situation:\n",
    "\n",
    "### $U \\sim Unif\\{1,...,n\\}\\;;\\;\\mathbb{P}(U=i)=\\frac{1}{n}$\n",
    "### $\\Rightarrow \\mathbb{Ent}(U) = - \\sum_{i = 1}^{n}\\frac{1}{n}.\\log_2\\frac{1}{n}$\n",
    "### For $n = 100$, we have $\\mathbb{Ent}(U) = 6.6439$\n",
    "### For $n = 10$, we have $\\mathbb{Ent}(U) = 3.32$\n",
    "### For $n = 3$, we have $\\mathbb{Ent}(U) = 1.585$\n",
    "### Consider $U \\sim Unif\\{1,...,100\\}\\;;\\;\\mathbb{P}(U=1)=0.999$ and $\\mathbb{P}(U\\neq 1)=10^{-5}\\;,\\;\\therefore \\mathbb{Ent}(U) = 0.0179$ \n",
    "### Now, consider $U \\sim Unif\\{1,...,n\\}\\;;\\;\\mathbb{P}(U=1)=1$ and $\\mathbb{P}(U\\neq1)=0\\;,\\;\\therefore \\mathbb{Ent}(U) = 0$ (Use L'Hôpital)"
   ]
  },
  {
   "cell_type": "markdown",
   "metadata": {},
   "source": [
    "<h2 style=\"color:rgb(220,30,30);text-decoration:underline;\"> Assignment 3</h2>\n",
    "\n",
    "### Calculate expected information gain corresponding to each of the six attributes.\n",
    "\n",
    "### Which attribute should be used for splitting the examples at the root node?  \n",
    "\n",
    "### We should use the one with more information gain.\n",
    "\n",
    "### Formulation:\n",
    "\n",
    "### $\\mathbb{IG}(S,A) = \\mathbb{Ent}(S) -\\sum_{k \\in A}\\frac{|S_k|}{|S|}\\mathbb{Ent}(S_k)$\n",
    "\n",
    "### $S_k \\in S$ for the attribute $a = k$ for $a \\in A$."
   ]
  },
  {
   "cell_type": "code",
   "execution_count": 5,
   "metadata": {
    "collapsed": false
   },
   "outputs": [
    {
     "name": "stdout",
     "output_type": "stream",
     "text": [
      "AVERAGE INFORMATION GAIN\n"
     ]
    },
    {
     "data": {
      "text/html": [
       "<div>\n",
       "<table border=\"1\" class=\"dataframe\">\n",
       "  <thead>\n",
       "    <tr style=\"text-align: right;\">\n",
       "      <th></th>\n",
       "      <th>Dataset</th>\n",
       "      <th>a1</th>\n",
       "      <th>a2</th>\n",
       "      <th>a3</th>\n",
       "      <th>a4</th>\n",
       "      <th>a5</th>\n",
       "      <th>a6</th>\n",
       "    </tr>\n",
       "  </thead>\n",
       "  <tbody>\n",
       "    <tr>\n",
       "      <th>0</th>\n",
       "      <td>MONK-1</td>\n",
       "      <td>0.075273</td>\n",
       "      <td>0.005838</td>\n",
       "      <td>0.004708</td>\n",
       "      <td>0.026312</td>\n",
       "      <td>0.287031</td>\n",
       "      <td>0.000758</td>\n",
       "    </tr>\n",
       "    <tr>\n",
       "      <th>1</th>\n",
       "      <td>MONK-2</td>\n",
       "      <td>0.003756</td>\n",
       "      <td>0.002458</td>\n",
       "      <td>0.001056</td>\n",
       "      <td>0.015664</td>\n",
       "      <td>0.017277</td>\n",
       "      <td>0.006248</td>\n",
       "    </tr>\n",
       "    <tr>\n",
       "      <th>2</th>\n",
       "      <td>MONK-3</td>\n",
       "      <td>0.007121</td>\n",
       "      <td>0.293736</td>\n",
       "      <td>0.000831</td>\n",
       "      <td>0.002892</td>\n",
       "      <td>0.255912</td>\n",
       "      <td>0.007077</td>\n",
       "    </tr>\n",
       "  </tbody>\n",
       "</table>\n",
       "</div>"
      ],
      "text/plain": [
       "  Dataset        a1        a2        a3        a4        a5        a6\n",
       "0  MONK-1  0.075273  0.005838  0.004708  0.026312  0.287031  0.000758\n",
       "1  MONK-2  0.003756  0.002458  0.001056  0.015664  0.017277  0.006248\n",
       "2  MONK-3  0.007121  0.293736  0.000831  0.002892  0.255912  0.007077"
      ]
     },
     "execution_count": 5,
     "metadata": {},
     "output_type": "execute_result"
    }
   ],
   "source": [
    "print('AVERAGE INFORMATION GAIN')\n",
    "df_entr_train = pd.DataFrame(\n",
    "    {\n",
    "    \"Dataset\": ['MONK-1','MONK-2','MONK-3'],\n",
    "    \"a1\": [d.averageGain(m1,m.attributes[0]),d.averageGain(m2,m.attributes[0]),d.averageGain(m3,m.attributes[0])],\n",
    "    \"a2\": [d.averageGain(m1,m.attributes[1]),d.averageGain(m2,m.attributes[1]),d.averageGain(m3,m.attributes[1])],\n",
    "    \"a3\": [d.averageGain(m1,m.attributes[2]),d.averageGain(m2,m.attributes[2]),d.averageGain(m3,m.attributes[2])],\n",
    "    \"a4\": [d.averageGain(m1,m.attributes[3]),d.averageGain(m2,m.attributes[3]),d.averageGain(m3,m.attributes[3])],\n",
    "    \"a5\": [d.averageGain(m1,m.attributes[4]),d.averageGain(m2,m.attributes[4]),d.averageGain(m3,m.attributes[4])],\n",
    "    \"a6\": [d.averageGain(m1,m.attributes[5]),d.averageGain(m2,m.attributes[5]),d.averageGain(m3,m.attributes[5])]\n",
    "    }\n",
    ")\n",
    "df_entr_train"
   ]
  },
  {
   "cell_type": "markdown",
   "metadata": {},
   "source": [
    "### We should pick first the attribute with more information gain for each dataset. "
   ]
  },
  {
   "cell_type": "markdown",
   "metadata": {},
   "source": [
    "<h2 style=\"color:rgb(220,30,30);text-decoration:underline;\"> Assignment 4</h2>"
   ]
  },
  {
   "cell_type": "markdown",
   "metadata": {},
   "source": [
    "### Q: Looking at the equation for the Information Gain, how does the entropy of the subsets look like when the information gain is maximized?\n",
    "\n",
    "### A: They tend to zero (to be smaller and smaller).\n",
    "\n",
    "### Q: How can we motivate using the information gain as a heuristic for picking an attribute for splitting? Think about reduction in entropy after the split and what the entropy implies.  \n",
    "\n",
    "### A: The attribute that presents the lowest entropy is more \"deterministic\" and presents more information. Thus, such attribute should be pick first for splitting data."
   ]
  },
  {
   "cell_type": "markdown",
   "metadata": {},
   "source": [
    "# Building Decision Trees\n",
    "\n",
    "### Q: Split data into subsets according to the selected attribute and compute the information gains for the nodes on the next level of the tree.\n",
    "\n",
    "### Q: Which attributes should be tested for these nodes?"
   ]
  },
  {
   "cell_type": "markdown",
   "metadata": {},
   "source": [
    "### A: Since we have a classification problem for a decision tree, each value from the attribute chosen for the node will form a branch.\n",
    "\n",
    "### A: Then, we must compute the average gain for each attribute left in each branch and select a new sppliting criterion."
   ]
  },
  {
   "cell_type": "code",
   "execution_count": 6,
   "metadata": {
    "collapsed": false
   },
   "outputs": [
    {
     "name": "stdout",
     "output_type": "stream",
     "text": [
      "SECOND LAYER FOR DATASET MONK 1 - INFORMATION GAINS FOR DIFFERENT PARTITIONS\n",
      "ATTRIBUTE 5 HAS ALREADY BEEN SELECTED\n"
     ]
    },
    {
     "data": {
      "text/html": [
       "<div>\n",
       "<table border=\"1\" class=\"dataframe\">\n",
       "  <thead>\n",
       "    <tr style=\"text-align: right;\">\n",
       "      <th></th>\n",
       "      <th>MostCommon</th>\n",
       "      <th>Values</th>\n",
       "      <th>a1</th>\n",
       "      <th>a2</th>\n",
       "      <th>a3</th>\n",
       "      <th>a4</th>\n",
       "      <th>a5</th>\n",
       "      <th>a6</th>\n",
       "    </tr>\n",
       "  </thead>\n",
       "  <tbody>\n",
       "    <tr>\n",
       "      <th>0</th>\n",
       "      <td>True</td>\n",
       "      <td>1</td>\n",
       "      <td>0.000000</td>\n",
       "      <td>0.000000</td>\n",
       "      <td>0.000000</td>\n",
       "      <td>0.000000</td>\n",
       "      <td>0.0</td>\n",
       "      <td>0.000000</td>\n",
       "    </tr>\n",
       "    <tr>\n",
       "      <th>1</th>\n",
       "      <td>False</td>\n",
       "      <td>2</td>\n",
       "      <td>0.040217</td>\n",
       "      <td>0.015063</td>\n",
       "      <td>0.037273</td>\n",
       "      <td>0.048892</td>\n",
       "      <td>0.0</td>\n",
       "      <td>0.025807</td>\n",
       "    </tr>\n",
       "    <tr>\n",
       "      <th>2</th>\n",
       "      <td>False</td>\n",
       "      <td>3</td>\n",
       "      <td>0.033055</td>\n",
       "      <td>0.002197</td>\n",
       "      <td>0.017982</td>\n",
       "      <td>0.019123</td>\n",
       "      <td>0.0</td>\n",
       "      <td>0.045109</td>\n",
       "    </tr>\n",
       "    <tr>\n",
       "      <th>3</th>\n",
       "      <td>False</td>\n",
       "      <td>4</td>\n",
       "      <td>0.206291</td>\n",
       "      <td>0.033898</td>\n",
       "      <td>0.025906</td>\n",
       "      <td>0.075933</td>\n",
       "      <td>0.0</td>\n",
       "      <td>0.003324</td>\n",
       "    </tr>\n",
       "  </tbody>\n",
       "</table>\n",
       "</div>"
      ],
      "text/plain": [
       "  MostCommon  Values        a1        a2        a3        a4   a5        a6\n",
       "0       True       1  0.000000  0.000000  0.000000  0.000000  0.0  0.000000\n",
       "1      False       2  0.040217  0.015063  0.037273  0.048892  0.0  0.025807\n",
       "2      False       3  0.033055  0.002197  0.017982  0.019123  0.0  0.045109\n",
       "3      False       4  0.206291  0.033898  0.025906  0.075933  0.0  0.003324"
      ]
     },
     "execution_count": 6,
     "metadata": {},
     "output_type": "execute_result"
    }
   ],
   "source": [
    "#######################\n",
    "### For dataset MONK 1\n",
    "#######################\n",
    "## >>> Construction of 1st layer\n",
    "\n",
    "data=m1\n",
    "\n",
    "# Set choice from previous table\n",
    "bestAtt = m.attributes[4] # chosen attribute (5 - look table)\n",
    "\n",
    "# computation of all info gain for selection of chosen attribute \n",
    "info_gain_selects = []\n",
    "for j in bestAtt.values:\n",
    "    s1 = d.select(data,bestAtt,j) # selecting all data where a5=j\n",
    "\n",
    "    info_gain_s1 = []\n",
    "    for i in range(0,6):\n",
    "        info_gain_s1.append(d.averageGain(s1,m.attributes[i])) # find its gain for each atribute\n",
    "\n",
    "    info_gain_selects.append(info_gain_s1)\n",
    " \n",
    "\n",
    "print('SECOND LAYER FOR DATASET MONK 1 - INFORMATION GAINS FOR DIFFERENT PARTITIONS')\n",
    "print('ATTRIBUTE 5 HAS ALREADY BEEN SELECTED')\n",
    "\n",
    "# remember: attribute 5 has already been selected\n",
    "df_2ndL_att_val = pd.DataFrame(\n",
    "    {\n",
    "    \"Values\": bestAtt.values,\n",
    "    \"a1\": [info_gain_selects[0][0],info_gain_selects[1][0],info_gain_selects[2][0],info_gain_selects[3][0]],\n",
    "    \"a2\": [info_gain_selects[0][1],info_gain_selects[1][1],info_gain_selects[2][1],info_gain_selects[3][1]],\n",
    "    \"a3\": [info_gain_selects[0][2],info_gain_selects[1][2],info_gain_selects[2][2],info_gain_selects[3][2]],\n",
    "    \"a4\": [info_gain_selects[0][3],info_gain_selects[1][3],info_gain_selects[2][3],info_gain_selects[3][3]],\n",
    "    \"a5\": [info_gain_selects[0][4],info_gain_selects[1][4],info_gain_selects[2][4],info_gain_selects[3][4]],\n",
    "    \"a6\": [info_gain_selects[0][5],info_gain_selects[1][5],info_gain_selects[2][5],info_gain_selects[3][5]],\n",
    "    \"MostCommon\": [d.mostCommon(d.select(data,bestAtt,1)),d.mostCommon(d.select(data,bestAtt,2)),d.mostCommon(d.select(data,bestAtt,3)),d.mostCommon(d.select(data,bestAtt,4))]\n",
    "    }\n",
    ")\n",
    "df_2ndL_att_val"
   ]
  },
  {
   "cell_type": "markdown",
   "metadata": {},
   "source": [
    "### So, we can see from the table that for values = 1 and attribute 5 all info gain are zero, since we had already a division according to this."
   ]
  },
  {
   "cell_type": "markdown",
   "metadata": {},
   "source": [
    "### According to the previous table:\n",
    "\n",
    "### 1) branch with value = 1 should NOT be split anymore\n",
    "### 2) branch with value = 2 should split according to attribute A4 (more info gain)\n",
    "### 3) branch with value = 3 should split according to attribute A6 (more info gain)\n",
    "### 4) branch with value = 4 should split according to attribute A1 (more info gain)\n"
   ]
  },
  {
   "cell_type": "code",
   "execution_count": 7,
   "metadata": {
    "collapsed": false
   },
   "outputs": [
    {
     "name": "stdout",
     "output_type": "stream",
     "text": [
      "SECOND LAYER FOR DATASET MONK 1 - INFORMATION GAINS FOR DIFFERENT PARTITIONS\n",
      "BRANCH VALUE = 2 - ATTRIBUTE 4 HAS ALREADY BEEN SELECTED\n"
     ]
    },
    {
     "data": {
      "text/html": [
       "<div>\n",
       "<style scoped>\n",
       "    .dataframe tbody tr th:only-of-type {\n",
       "        vertical-align: middle;\n",
       "    }\n",
       "\n",
       "    .dataframe tbody tr th {\n",
       "        vertical-align: top;\n",
       "    }\n",
       "\n",
       "    .dataframe thead th {\n",
       "        text-align: right;\n",
       "    }\n",
       "</style>\n",
       "<table border=\"1\" class=\"dataframe\">\n",
       "  <thead>\n",
       "    <tr style=\"text-align: right;\">\n",
       "      <th></th>\n",
       "      <th>Values</th>\n",
       "      <th>a1</th>\n",
       "      <th>a2</th>\n",
       "      <th>a3</th>\n",
       "      <th>a4</th>\n",
       "      <th>a5</th>\n",
       "      <th>a6</th>\n",
       "      <th>MostCommon</th>\n",
       "    </tr>\n",
       "  </thead>\n",
       "  <tbody>\n",
       "    <tr>\n",
       "      <th>0</th>\n",
       "      <td>1</td>\n",
       "      <td>0.060879</td>\n",
       "      <td>0.016313</td>\n",
       "      <td>0.051800</td>\n",
       "      <td>0.0</td>\n",
       "      <td>0.0</td>\n",
       "      <td>0.051800</td>\n",
       "      <td>False</td>\n",
       "    </tr>\n",
       "    <tr>\n",
       "      <th>1</th>\n",
       "      <td>2</td>\n",
       "      <td>0.198117</td>\n",
       "      <td>0.591673</td>\n",
       "      <td>0.128085</td>\n",
       "      <td>0.0</td>\n",
       "      <td>0.0</td>\n",
       "      <td>0.198117</td>\n",
       "      <td>False</td>\n",
       "    </tr>\n",
       "    <tr>\n",
       "      <th>2</th>\n",
       "      <td>3</td>\n",
       "      <td>0.068187</td>\n",
       "      <td>0.088546</td>\n",
       "      <td>0.130719</td>\n",
       "      <td>0.0</td>\n",
       "      <td>0.0</td>\n",
       "      <td>0.000450</td>\n",
       "      <td>False</td>\n",
       "    </tr>\n",
       "  </tbody>\n",
       "</table>\n",
       "</div>"
      ],
      "text/plain": [
       "   Values        a1        a2        a3   a4   a5        a6  MostCommon\n",
       "0       1  0.060879  0.016313  0.051800  0.0  0.0  0.051800       False\n",
       "1       2  0.198117  0.591673  0.128085  0.0  0.0  0.198117       False\n",
       "2       3  0.068187  0.088546  0.130719  0.0  0.0  0.000450       False"
      ]
     },
     "execution_count": 7,
     "metadata": {},
     "output_type": "execute_result"
    }
   ],
   "source": [
    "#######################\n",
    "### For dataset MONK 1\n",
    "#######################\n",
    "## >>> Construction of 2nd layer\n",
    "\n",
    "#### FOR BRANCH WITH VALUE = 2\n",
    "data=d.select(m1,m.attributes[4],2)\n",
    "\n",
    "# Set choice from previous table\n",
    "bestAtt = m.attributes[3] # chosen attribute (4 - look table)\n",
    "\n",
    "# computation of all info gain for selection of chosen attribute \n",
    "info_gain_selects = []\n",
    "for j in bestAtt.values:\n",
    "    ss1 = d.select(data,bestAtt,j)\n",
    "\n",
    "    info_gain_ss1 = []\n",
    "    for i in range(0,6):\n",
    "        info_gain_ss1.append(d.averageGain(ss1,m.attributes[i]))\n",
    "\n",
    "    info_gain_selects.append(info_gain_ss1)\n",
    " \n",
    "\n",
    "print('SECOND LAYER FOR DATASET MONK 1 - INFORMATION GAINS FOR DIFFERENT PARTITIONS')\n",
    "print('BRANCH VALUE = 2 - ATTRIBUTE 4 HAS ALREADY BEEN SELECTED')\n",
    "\n",
    "# remember: attribute 5 has already been selected\n",
    "df_2ndL_att_val = pd.DataFrame(\n",
    "    {\n",
    "    \"Values\": bestAtt.values,\n",
    "    \"a1\": [info_gain_selects[0][0],info_gain_selects[1][0],info_gain_selects[2][0]],\n",
    "    \"a2\": [info_gain_selects[0][1],info_gain_selects[1][1],info_gain_selects[2][1]],\n",
    "    \"a3\": [info_gain_selects[0][2],info_gain_selects[1][2],info_gain_selects[2][2]],\n",
    "    \"a4\": [info_gain_selects[0][3],info_gain_selects[1][3],info_gain_selects[2][3]],\n",
    "    \"a5\": [info_gain_selects[0][4],info_gain_selects[1][4],info_gain_selects[2][4]],\n",
    "    \"a6\": [info_gain_selects[0][5],info_gain_selects[1][5],info_gain_selects[2][5]],\n",
    "    \"MostCommon\": [d.mostCommon(d.select(data,bestAtt,1)),d.mostCommon(d.select(data,bestAtt,2)),d.mostCommon(d.select(data,bestAtt,3))]\n",
    "    }\n",
    ")\n",
    "df_2ndL_att_val\n"
   ]
  },
  {
   "cell_type": "code",
   "execution_count": 8,
   "metadata": {
    "collapsed": false
   },
   "outputs": [
    {
     "name": "stdout",
     "output_type": "stream",
     "text": [
      "SECOND LAYER FOR DATASET MONK 1 - INFORMATION GAINS FOR DIFFERENT PARTITIONS\n",
      "BRANCH VALUE = 3 - ATTRIBUTE 6 HAS ALREADY BEEN SELECTED\n"
     ]
    },
    {
     "data": {
      "text/html": [
       "<div>\n",
       "<style scoped>\n",
       "    .dataframe tbody tr th:only-of-type {\n",
       "        vertical-align: middle;\n",
       "    }\n",
       "\n",
       "    .dataframe tbody tr th {\n",
       "        vertical-align: top;\n",
       "    }\n",
       "\n",
       "    .dataframe thead th {\n",
       "        text-align: right;\n",
       "    }\n",
       "</style>\n",
       "<table border=\"1\" class=\"dataframe\">\n",
       "  <thead>\n",
       "    <tr style=\"text-align: right;\">\n",
       "      <th></th>\n",
       "      <th>Values</th>\n",
       "      <th>a1</th>\n",
       "      <th>a2</th>\n",
       "      <th>a3</th>\n",
       "      <th>a4</th>\n",
       "      <th>a5</th>\n",
       "      <th>a6</th>\n",
       "      <th>MostCommon</th>\n",
       "    </tr>\n",
       "  </thead>\n",
       "  <tbody>\n",
       "    <tr>\n",
       "      <th>0</th>\n",
       "      <td>1</td>\n",
       "      <td>0.036928</td>\n",
       "      <td>0.105897</td>\n",
       "      <td>0.000661</td>\n",
       "      <td>0.128243</td>\n",
       "      <td>0.000000e+00</td>\n",
       "      <td>0.000000e+00</td>\n",
       "      <td>False</td>\n",
       "    </tr>\n",
       "    <tr>\n",
       "      <th>1</th>\n",
       "      <td>2</td>\n",
       "      <td>0.034883</td>\n",
       "      <td>0.003585</td>\n",
       "      <td>0.123694</td>\n",
       "      <td>0.034883</td>\n",
       "      <td>1.110223e-16</td>\n",
       "      <td>1.110223e-16</td>\n",
       "      <td>False</td>\n",
       "    </tr>\n",
       "  </tbody>\n",
       "</table>\n",
       "</div>"
      ],
      "text/plain": [
       "   Values        a1        a2        a3        a4            a5            a6  \\\n",
       "0       1  0.036928  0.105897  0.000661  0.128243  0.000000e+00  0.000000e+00   \n",
       "1       2  0.034883  0.003585  0.123694  0.034883  1.110223e-16  1.110223e-16   \n",
       "\n",
       "   MostCommon  \n",
       "0       False  \n",
       "1       False  "
      ]
     },
     "execution_count": 8,
     "metadata": {},
     "output_type": "execute_result"
    }
   ],
   "source": [
    "#######################\n",
    "### For dataset MONK 1\n",
    "#######################\n",
    "## >>> Construction of 2nd layer\n",
    "\n",
    "#### FOR BRANCH WITH VALUE = 3\n",
    "data=d.select(m1,m.attributes[4],3)\n",
    "\n",
    "# Set choice from previous table\n",
    "bestAtt = m.attributes[5] # chosen attribute (6 - look table)\n",
    "\n",
    "# computation of all info gain for selection of chosen attribute \n",
    "info_gain_selects = []\n",
    "for j in bestAtt.values:\n",
    "    ss1 = d.select(data,bestAtt,j)\n",
    "\n",
    "    info_gain_ss1 = []\n",
    "    for i in range(0,6):\n",
    "        info_gain_ss1.append(d.averageGain(ss1,m.attributes[i]))\n",
    "\n",
    "    info_gain_selects.append(info_gain_ss1)\n",
    " \n",
    "\n",
    "print('SECOND LAYER FOR DATASET MONK 1 - INFORMATION GAINS FOR DIFFERENT PARTITIONS')\n",
    "print('BRANCH VALUE = 3 - ATTRIBUTE 6 HAS ALREADY BEEN SELECTED')\n",
    "\n",
    "# remember: attribute 5 has already been selected\n",
    "df_2ndL_att_val = pd.DataFrame(\n",
    "    {\n",
    "    \"Values\": bestAtt.values,\n",
    "    \"a1\": [info_gain_selects[0][0],info_gain_selects[1][0]],\n",
    "    \"a2\": [info_gain_selects[0][1],info_gain_selects[1][1]],\n",
    "    \"a3\": [info_gain_selects[0][2],info_gain_selects[1][2]],\n",
    "    \"a4\": [info_gain_selects[0][3],info_gain_selects[1][3]],\n",
    "    \"a5\": [info_gain_selects[0][4],info_gain_selects[1][4]],\n",
    "    \"a6\": [info_gain_selects[0][5],info_gain_selects[1][5]],\n",
    "    \"MostCommon\": [d.mostCommon(d.select(data,bestAtt,1)),d.mostCommon(d.select(data,bestAtt,2))]\n",
    "    }\n",
    ")\n",
    "df_2ndL_att_val\n"
   ]
  },
  {
   "cell_type": "code",
   "execution_count": 9,
   "metadata": {
    "collapsed": false,
    "scrolled": true
   },
   "outputs": [
    {
     "name": "stdout",
     "output_type": "stream",
     "text": [
      "SECOND LAYER FOR DATASET MONK 1 - INFORMATION GAINS FOR DIFFERENT PARTITIONS\n",
      "BRANCH VALUE = 4 - ATTRIBUTE 1 HAS ALREADY BEEN SELECTED\n"
     ]
    },
    {
     "data": {
      "text/html": [
       "<div>\n",
       "<style scoped>\n",
       "    .dataframe tbody tr th:only-of-type {\n",
       "        vertical-align: middle;\n",
       "    }\n",
       "\n",
       "    .dataframe tbody tr th {\n",
       "        vertical-align: top;\n",
       "    }\n",
       "\n",
       "    .dataframe thead th {\n",
       "        text-align: right;\n",
       "    }\n",
       "</style>\n",
       "<table border=\"1\" class=\"dataframe\">\n",
       "  <thead>\n",
       "    <tr style=\"text-align: right;\">\n",
       "      <th></th>\n",
       "      <th>Values</th>\n",
       "      <th>a1</th>\n",
       "      <th>a2</th>\n",
       "      <th>a3</th>\n",
       "      <th>a4</th>\n",
       "      <th>a5</th>\n",
       "      <th>a6</th>\n",
       "      <th>MostCommon</th>\n",
       "    </tr>\n",
       "  </thead>\n",
       "  <tbody>\n",
       "    <tr>\n",
       "      <th>0</th>\n",
       "      <td>1</td>\n",
       "      <td>0.000000e+00</td>\n",
       "      <td>0.371232</td>\n",
       "      <td>0.075396</td>\n",
       "      <td>0.075396</td>\n",
       "      <td>0.000000e+00</td>\n",
       "      <td>0.075396</td>\n",
       "      <td>False</td>\n",
       "    </tr>\n",
       "    <tr>\n",
       "      <th>1</th>\n",
       "      <td>2</td>\n",
       "      <td>1.110223e-16</td>\n",
       "      <td>0.945660</td>\n",
       "      <td>0.072057</td>\n",
       "      <td>0.253875</td>\n",
       "      <td>1.110223e-16</td>\n",
       "      <td>0.003430</td>\n",
       "      <td>False</td>\n",
       "    </tr>\n",
       "    <tr>\n",
       "      <th>2</th>\n",
       "      <td>3</td>\n",
       "      <td>0.000000e+00</td>\n",
       "      <td>0.918296</td>\n",
       "      <td>0.018311</td>\n",
       "      <td>0.029407</td>\n",
       "      <td>0.000000e+00</td>\n",
       "      <td>0.024758</td>\n",
       "      <td>True</td>\n",
       "    </tr>\n",
       "  </tbody>\n",
       "</table>\n",
       "</div>"
      ],
      "text/plain": [
       "   Values            a1        a2        a3        a4            a5        a6  \\\n",
       "0       1  0.000000e+00  0.371232  0.075396  0.075396  0.000000e+00  0.075396   \n",
       "1       2  1.110223e-16  0.945660  0.072057  0.253875  1.110223e-16  0.003430   \n",
       "2       3  0.000000e+00  0.918296  0.018311  0.029407  0.000000e+00  0.024758   \n",
       "\n",
       "   MostCommon  \n",
       "0       False  \n",
       "1       False  \n",
       "2        True  "
      ]
     },
     "execution_count": 9,
     "metadata": {},
     "output_type": "execute_result"
    }
   ],
   "source": [
    "#######################\n",
    "### For dataset MONK 1\n",
    "#######################\n",
    "## >>> Construction of 2nd layer\n",
    "\n",
    "#### FOR BRANCH WITH VALUE = 4\n",
    "data=d.select(m1,m.attributes[4],4)\n",
    "\n",
    "# Set choice from previous table\n",
    "bestAtt = m.attributes[0] # chosen attribute (1 - look table)\n",
    "\n",
    "# computation of all info gain for selection of chosen attribute \n",
    "info_gain_selects = []\n",
    "for j in bestAtt.values:\n",
    "    ss1 = d.select(data,bestAtt,j)\n",
    "\n",
    "    info_gain_ss1 = []\n",
    "    for i in range(0,6):\n",
    "        info_gain_ss1.append(d.averageGain(ss1,m.attributes[i]))\n",
    "\n",
    "    info_gain_selects.append(info_gain_ss1)\n",
    " \n",
    "\n",
    "print('SECOND LAYER FOR DATASET MONK 1 - INFORMATION GAINS FOR DIFFERENT PARTITIONS')\n",
    "print('BRANCH VALUE = 4 - ATTRIBUTE 1 HAS ALREADY BEEN SELECTED')\n",
    "\n",
    "# remember: attribute 5 has already been selected\n",
    "df_2ndL_att_val = pd.DataFrame(\n",
    "    {\n",
    "    \"Values\": bestAtt.values,\n",
    "    \"a1\": [info_gain_selects[0][0],info_gain_selects[1][0],info_gain_selects[2][0]],\n",
    "    \"a2\": [info_gain_selects[0][1],info_gain_selects[1][1],info_gain_selects[2][1]],\n",
    "    \"a3\": [info_gain_selects[0][2],info_gain_selects[1][2],info_gain_selects[2][2]],\n",
    "    \"a4\": [info_gain_selects[0][3],info_gain_selects[1][3],info_gain_selects[2][3]],\n",
    "    \"a5\": [info_gain_selects[0][4],info_gain_selects[1][4],info_gain_selects[2][4]],\n",
    "    \"a6\": [info_gain_selects[0][5],info_gain_selects[1][5],info_gain_selects[2][5]],\n",
    "        \"MostCommon\": [d.mostCommon(d.select(data,bestAtt,1)),d.mostCommon(d.select(data,bestAtt,2)),d.mostCommon(d.select(data,bestAtt,3))]\n",
    "    }\n",
    ")\n",
    "df_2ndL_att_val"
   ]
  },
  {
   "cell_type": "markdown",
   "metadata": {},
   "source": [
    " ### Next, we can compare the results with the method for building a tree from the package dtree.py\n",
    " \n",
    " ### Results are just accordingly. Check below."
   ]
  },
  {
   "cell_type": "code",
   "execution_count": null,
   "metadata": {
    "collapsed": false
   },
   "outputs": [
    {
     "name": "stdout",
     "output_type": "stream",
     "text": [
      "A5(+A4(---)A6(--)A1(--+))\n"
     ]
    }
   ],
   "source": [
    "Tree1 = d.buildTree(m1,m.attributes,2)\n",
    "print(Tree1)\n",
    "qt.drawTree(Tree1)"
   ]
  },
  {
   "cell_type": "markdown",
   "metadata": {},
   "source": [
    "<h2 style=\"color:rgb(220,30,30);text-decoration:underline;\"> Assignment 5</h2>\n",
    "\n",
    "### Build full decion trees for all three of Monk datasets.\n",
    "\n",
    "### Use function \"check\" to measure the performance of the decision tree on both the training and test datasets.\n",
    "\n",
    "### Compute the train and test sets errors for the three Monk datasets for the full trees.\n",
    "\n",
    "### Were your assumptions about the datasets correct?\n",
    "\n",
    "### Explain the results you get for the training and test datasets."
   ]
  },
  {
   "cell_type": "markdown",
   "metadata": {},
   "source": [
    "### Test building tree for MONK 1"
   ]
  },
  {
   "cell_type": "code",
   "execution_count": 7,
   "metadata": {
    "collapsed": false
   },
   "outputs": [
    {
     "name": "stdout",
     "output_type": "stream",
     "text": [
      "A5(+A4(A1(A2(+--)A2(-++)A2(--+))A2(-+-)A3(A1(A2(+--)+A2(-++))A2(--A1(--+))))A6(A4(A3(A1(A2(+--)A2(-+-)-)-)A1(A2(+--)--)-)A3(A4(A1(+--)A1(-++)+)A1(-A2(-+-)A2(--+))))A1(A2(+--)A2(-+-)A2(+-+)))\n"
     ]
    }
   ],
   "source": [
    "Tree1 = d.buildTree(m1,m.attributes)\n",
    "print(Tree1)\n",
    "#qt.drawTree(Tree1)"
   ]
  },
  {
   "cell_type": "code",
   "execution_count": 16,
   "metadata": {
    "collapsed": false
   },
   "outputs": [
    {
     "name": "stdout",
     "output_type": "stream",
     "text": [
      "1.0\n",
      "0.828703703704\n"
     ]
    }
   ],
   "source": [
    "t1=d.buildTree(m.monk1, m.attributes);\n",
    "print(d.check(t1, m.monk1))\n",
    "print(d.check(t1, m.monk1test))"
   ]
  },
  {
   "cell_type": "markdown",
   "metadata": {},
   "source": [
    "### Test building tree for MONK 2"
   ]
  },
  {
   "cell_type": "code",
   "execution_count": 9,
   "metadata": {
    "collapsed": false
   },
   "outputs": [
    {
     "name": "stdout",
     "output_type": "stream",
     "text": [
      "A5(A3(A6(-A1(-A2(--A4(--+))A2(-A4(-+-)-)))A4(A2(--A1(-+-))+A1(A2(-A6(-+)-)A2(A6(-+)++)+)))A3(A4(A2(-+-)A6(A1(--+)+)A1(A2(-++)++))A2(A4(++A1(+-A6(+-)))-A1(+A4(+--)-)))A3(A6(A1(-A4(-++)A4(--+))A2(+A1(+-A4(+--))A4(A1(-++)A1(+--)-)))A4(A2(A6(-+)A6(+-)A1(A6(-+)++))A1(A2(-+-)--)A1(A6(+-)--)))A2(A6(-A1(+-A4(++-)))A1(A4(-A3(-+)A3(A6(-+)A6(+-)))A3(+A6(+-))-)A3(A4(--+)-)))\n"
     ]
    }
   ],
   "source": [
    "Tree2 = d.buildTree(m2,m.attributes)\n",
    "print(Tree2)\n",
    "#qt.drawTree(Tree2)"
   ]
  },
  {
   "cell_type": "code",
   "execution_count": 19,
   "metadata": {
    "collapsed": false
   },
   "outputs": [
    {
     "name": "stdout",
     "output_type": "stream",
     "text": [
      "1.0\n",
      "0.69212962963\n"
     ]
    }
   ],
   "source": [
    "t2=d.buildTree(m.monk2, m.attributes);\n",
    "print(d.check(t2, m.monk2))\n",
    "print(d.check(t2, m.monk2test))"
   ]
  },
  {
   "cell_type": "markdown",
   "metadata": {},
   "source": [
    "### Test building tree for MONK 3"
   ]
  },
  {
   "cell_type": "code",
   "execution_count": 20,
   "metadata": {
    "collapsed": false
   },
   "outputs": [
    {
     "name": "stdout",
     "output_type": "stream",
     "text": [
      "A2(A5(++A4(A1(--+)++)-)A5(+A1(+A4(+-+)+)A3(A4(+A1(--+)A1(+--))+)-)A4(A5(--+A1(--+))--))\n"
     ]
    }
   ],
   "source": [
    "Tree3 = d.buildTree(m3,m.attributes)\n",
    "print(Tree3)\n",
    "#qt.drawTree(Tree3)"
   ]
  },
  {
   "cell_type": "code",
   "execution_count": 21,
   "metadata": {
    "collapsed": false
   },
   "outputs": [
    {
     "name": "stdout",
     "output_type": "stream",
     "text": [
      "1.0\n",
      "0.944444444444\n"
     ]
    }
   ],
   "source": [
    "t3=d.buildTree(m.monk3, m.attributes);\n",
    "print(d.check(t3, m.monk3))\n",
    "print(d.check(t3, m.monk3test))"
   ]
  },
  {
   "cell_type": "code",
   "execution_count": 22,
   "metadata": {
    "collapsed": false
   },
   "outputs": [
    {
     "data": {
      "text/html": [
       "<div>\n",
       "<table border=\"1\" class=\"dataframe\">\n",
       "  <thead>\n",
       "    <tr style=\"text-align: right;\">\n",
       "      <th></th>\n",
       "      <th></th>\n",
       "      <th>E.test</th>\n",
       "      <th>E.train</th>\n",
       "    </tr>\n",
       "  </thead>\n",
       "  <tbody>\n",
       "    <tr>\n",
       "      <th>0</th>\n",
       "      <td>MONK-1</td>\n",
       "      <td>0.171296</td>\n",
       "      <td>0.0</td>\n",
       "    </tr>\n",
       "    <tr>\n",
       "      <th>1</th>\n",
       "      <td>MONK-2</td>\n",
       "      <td>0.307870</td>\n",
       "      <td>0.0</td>\n",
       "    </tr>\n",
       "    <tr>\n",
       "      <th>2</th>\n",
       "      <td>MONK-3</td>\n",
       "      <td>0.055556</td>\n",
       "      <td>0.0</td>\n",
       "    </tr>\n",
       "  </tbody>\n",
       "</table>\n",
       "</div>"
      ],
      "text/plain": [
       "             E.test  E.train\n",
       "0  MONK-1  0.171296      0.0\n",
       "1  MONK-2  0.307870      0.0\n",
       "2  MONK-3  0.055556      0.0"
      ]
     },
     "execution_count": 22,
     "metadata": {},
     "output_type": "execute_result"
    }
   ],
   "source": [
    "df_check = pd.DataFrame(\n",
    "    {\n",
    "    \"\": [\"MONK-1\",\"MONK-2\",\"MONK-3\"],\n",
    "    \"E.train\": [1-d.check(t1, m.monk1),1-d.check(t2, m.monk2),1-d.check(t3, m.monk3)],\n",
    "    \"E.test\": [1-d.check(t1, m.monk1test),1-d.check(t2, m.monk2test),1-d.check(t3, m.monk3test)]\n",
    "    }\n",
    ")\n",
    "df_check"
   ]
  },
  {
   "cell_type": "markdown",
   "metadata": {},
   "source": [
    "### Although dataset MONK-2 has less entropy, its testing performed worse.\n",
    "\n",
    "### Entropy is a concept that only takes into account the proportions for values. While the training procedure takes into account the relations between variables.\n",
    "\n",
    "### Nevertheless, entropy is used as a way to split data."
   ]
  },
  {
   "cell_type": "markdown",
   "metadata": {},
   "source": [
    "# Pruning\n",
    "\n",
    "### Reduced error pruning: consider each node in a tree as a candidate for removal.\n",
    "\n",
    "### Remove: if result tree perform at least as well as the original one.\n",
    "\n",
    "### For checking this use a separate validation dataset (split training set).\n"
   ]
  },
  {
   "cell_type": "code",
   "execution_count": 18,
   "metadata": {
    "collapsed": true
   },
   "outputs": [],
   "source": [
    "# randomly partition\n",
    "def partition(data, fraction):\n",
    "    ldata = list(data)\n",
    "    random.shuffle(ldata)\n",
    "    breakPoint = int(len(ldata) * fraction)\n",
    "    return ldata[:breakPoint], ldata[breakPoint:]\n",
    "\n",
    "# bulding up train and validation datasets\n",
    "monk1train, monk1val = partition(m.monk1, 0.6)\n",
    "monk2train, monk2val = partition(m.monk2, 0.6)\n",
    "monk3train, monk3val = partition(m.monk3, 0.6)"
   ]
  },
  {
   "cell_type": "markdown",
   "metadata": {},
   "source": [
    "# All possibilities for pruning\n",
    "\n",
    "### You should stop pruning when all the pruned trees perform worse than the current candidate.\n",
    "\n",
    "### For MONK-1\n"
   ]
  },
  {
   "cell_type": "code",
   "execution_count": 19,
   "metadata": {
    "collapsed": false
   },
   "outputs": [
    {
     "name": "stdout",
     "output_type": "stream",
     "text": [
      "Performance of Tree:\n",
      "0.74\n",
      " \n",
      "Performance of All combinations of Pruning:\n",
      "0.42\n",
      "0.78\n",
      "0.74\n",
      "0.74\n",
      "0.74\n",
      "0.78\n",
      "0.74\n",
      "0.74\n",
      "0.74\n",
      "0.72\n",
      "0.74\n",
      "0.74\n",
      "0.74\n",
      "0.66\n",
      "0.74\n",
      "0.72\n",
      "0.7\n"
     ]
    }
   ],
   "source": [
    "T1=d.buildTree(monk1train, m.attributes)\n",
    "\n",
    "print('Performance of Tree:')\n",
    "print(d.check(T1,monk1val))\n",
    "print(' ')\n",
    "print('Performance of All combinations of Pruning:')\n",
    "P1=d.allPruned(T1)\n",
    "for i in range(0,len(P1)):\n",
    "    print(d.check(P1[i],monk1val))"
   ]
  },
  {
   "cell_type": "code",
   "execution_count": 20,
   "metadata": {
    "collapsed": false
   },
   "outputs": [
    {
     "name": "stdout",
     "output_type": "stream",
     "text": [
      "Performance of Tree:\n",
      "0.74\n",
      " \n",
      "Performance of All combinations of Pruning:\n",
      "0.42\n",
      "0.78\n",
      "0.78\n",
      "0.76\n",
      "0.78\n",
      "0.78\n",
      "0.78\n",
      "0.7\n",
      "0.78\n",
      "0.76\n",
      "0.74\n"
     ]
    }
   ],
   "source": [
    "print('Performance of Tree:')\n",
    "print(d.check(T1,monk1val))\n",
    "print(' ')\n",
    "print('Performance of All combinations of Pruning:')\n",
    "P2=d.allPruned(P1[1])\n",
    "for i in range(0,len(P2)):\n",
    "    print(d.check(P2[i],monk1val))"
   ]
  },
  {
   "cell_type": "code",
   "execution_count": 21,
   "metadata": {
    "collapsed": false
   },
   "outputs": [
    {
     "name": "stdout",
     "output_type": "stream",
     "text": [
      "0.42\n",
      "0.78\n",
      "0.78\n",
      "0.76\n",
      "0.78\n",
      "0.78\n",
      "0.7\n",
      "0.78\n",
      "0.76\n",
      "0.74\n"
     ]
    }
   ],
   "source": [
    "P3=d.allPruned(P2[6])\n",
    "for i in range(0,len(P3)):\n",
    "    print(d.check(P3[i],monk1val))"
   ]
  },
  {
   "cell_type": "markdown",
   "metadata": {},
   "source": [
    "Perform worse then the current --> stop"
   ]
  },
  {
   "cell_type": "code",
   "execution_count": 23,
   "metadata": {
    "collapsed": true
   },
   "outputs": [],
   "source": [
    "#i = 7 # from 0 to 15 (len(P1))\n",
    "#qt.drawTree(P1[i])"
   ]
  },
  {
   "cell_type": "markdown",
   "metadata": {},
   "source": [
    "<h2 style=\"color:rgb(220,30,30);text-decoration:underline;\"> Assignment 6</h2>"
   ]
  },
  {
   "cell_type": "markdown",
   "metadata": {},
   "source": [
    "### The Bias Variance Trade-off \n",
    "\n",
    "###  \"The process described above may produce good predictions on the training set, but is likely to overfit the data, leading to poor test set performance. This is because the resulting tree might be too complex. A smaller tree with fewer splits (that is, fewer regions R1, . . . ,RJ ) might lead to lower variance and better interpretation at the cost of a little bias.\" (An Introduction to Statistical Learning - Hastie & Tibshirani)"
   ]
  },
  {
   "cell_type": "markdown",
   "metadata": {},
   "source": [
    "### The Bias Variance trade-off means that we accept a little deviation in our estimation so as to control the variance of the results better.  \n",
    "\n",
    "### The procedure responsible to implement this feature is Pruning."
   ]
  },
  {
   "cell_type": "markdown",
   "metadata": {},
   "source": [
    "<h2 style=\"color:rgb(220,30,30);text-decoration:underline;\"> Assignment 7</h2>"
   ]
  },
  {
   "cell_type": "markdown",
   "metadata": {},
   "source": [
    "### MONK-1"
   ]
  },
  {
   "cell_type": "code",
   "execution_count": 26,
   "metadata": {
    "collapsed": false
   },
   "outputs": [
    {
     "name": "stdout",
     "output_type": "stream",
     "text": [
      "[[0.72222222 0.83333333 0.75       0.86111111 0.88888889 0.80555556]\n",
      " [0.77777778 0.77777778 0.80555556 0.77777778 0.72222222 0.83333333]\n",
      " [0.80555556 0.75       0.75       0.78703704 0.80555556 0.75      ]\n",
      " ...\n",
      " [0.75       0.75       0.80555556 0.83333333 0.75       0.79166667]\n",
      " [0.80555556 0.80555556 0.80555556 0.7962963  0.77777778 0.82638889]\n",
      " [0.70138889 0.75       0.83333333 0.79166667 0.83333333 0.81481481]]\n"
     ]
    }
   ],
   "source": [
    "runs = 500\n",
    "fractions = [0.3,0.4,0.5,0.6,0.7,0.8]\n",
    "m1 = m.monk1\n",
    "\n",
    "def partition(data, fraction):\n",
    "    ldata = list(data)\n",
    "    random.shuffle(ldata)\n",
    "    breakPoint = int(len(ldata) * fraction)\n",
    "    return ldata[:breakPoint], ldata[breakPoint:]\n",
    "\n",
    "monk1test = m.monk1test\n",
    "results = np.empty((runs,len(fractions))) # store all test Erros over all fractions and runs\n",
    "fi = 0\n",
    "for f in fractions:\n",
    "    for r in range(0,runs):\n",
    "        monk1train, monk1val = partition(m.monk1, f) \n",
    "        \n",
    "        T=d.buildTree(monk1train, m.attributes)\n",
    "        prunecheckprev = d.check(T,monk1val)\n",
    "        \n",
    "        P = d.allPruned(T)\n",
    "        checks =[]\n",
    "        for i in range(0,len(P)):\n",
    "            checks.append(d.check(P[i],monk1val))\n",
    "        prunecheckpos = max(checks)\n",
    "        \n",
    "        # stop pruning when all the pruned trees perform worse than the current candidate.\n",
    "        while prunecheckprev <= prunecheckpos:\n",
    "            T = P[checks.index(max(checks))]\n",
    "            prunecheckprev = prunecheckpos\n",
    "            \n",
    "            P = d.allPruned(T)\n",
    "            checks =[]\n",
    "            for i in range(0,len(P)):\n",
    "                checks.append(d.check(P[i],monk1val))\n",
    "            prunecheckpos = max(checks)\n",
    "        \n",
    "        results[r,fi] = float(d.check(T,monk1test))\n",
    "    fi += 1\n",
    "\n",
    "results1 = results\n",
    "print(results1)            \n",
    "\n"
   ]
  },
  {
   "cell_type": "code",
   "execution_count": 27,
   "metadata": {
    "collapsed": false
   },
   "outputs": [
    {
     "data": {
      "text/plain": [
       "<matplotlib.axes._subplots.AxesSubplot at 0x20a025ddd68>"
      ]
     },
     "execution_count": 27,
     "metadata": {},
     "output_type": "execute_result"
    },
    {
     "data": {
      "image/png": "[encoded data removed]",
      "text/plain": [
       "<Figure size 432x288 with 1 Axes>"
      ]
     },
     "metadata": {
      "needs_background": "light"
     },
     "output_type": "display_data"
    }
   ],
   "source": [
    "df_results1 = pd.DataFrame(1-results1,columns=fractions)\n",
    "\n",
    "bplotM1 = sns.boxplot(data=df_results1,\n",
    "                        width=0.5,\n",
    "                        palette=\"colorblind\",\n",
    "                         showmeans=True, showfliers=False)\n",
    "#boxplotM1 = sns.stripplot(data=df_results1,jitter=True,marker='o',alpha=0.05,color='black')\n",
    "bplotM1.axes.set_title(\"Dataset MONK-1: Pruning Optimal Partition Study \\n (over 1000 runs)\",\n",
    "                    fontsize=14)\n",
    "\n",
    "bplotM1.set_xlabel(\"Training Set Partition Fractions\", \n",
    "                fontsize=12)\n",
    " \n",
    "bplotM1.set_ylabel(\"Test Error\",\n",
    "                fontsize=12)\n",
    "bplotM1"
   ]
  },
  {
   "cell_type": "markdown",
   "metadata": {},
   "source": [
    "### The boxplot above is seggregated by the fractions used for partitioning the training set into a validation set. \n",
    "\n",
    "### The green triangles represents the mean for all the 500 runs of the pruning method. The highest and lowest traces indicates, respectively, the maximum value and the minimum. \n",
    "\n",
    "### The middle is the median which represents the value that is in the center of the sample. Right below it we have the 1st quartile and above, the 3rd quartile. \n",
    "\n",
    "### This boxplot representation can give a clue on how the sample data is spread, showing if it is symmetric distributed or heavy-tailored.\n",
    "\n",
    "### Thus, it can be noted that the optimal value for the mean has an amplitude accordingly to the other ones."
   ]
  },
  {
   "cell_type": "code",
   "execution_count": 42,
   "metadata": {
    "collapsed": false
   },
   "outputs": [
    {
     "data": {
      "text/plain": [
       "<matplotlib.axes._subplots.AxesSubplot at 0x20a03e1dc18>"
      ]
     },
     "execution_count": 42,
     "metadata": {},
     "output_type": "execute_result"
    },
    {
     "data": {
      "image/png": "[encoded data removed]",
      "text/plain": [
       "<Figure size 432x288 with 1 Axes>"
      ]
     },
     "metadata": {
      "needs_background": "light"
     },
     "output_type": "display_data"
    }
   ],
   "source": [
    "MM1 = sns.pointplot(fractions,np.asarray(df_results1.mean(axis=0)))\n",
    "MM1.axes.set_title(\"Dataset MONK-1: Pruning Optimal Partition Study \\n (over 500 runs)\",\n",
    "                    fontsize=14)\n",
    "\n",
    "MM1.set_xlabel(\"Training Set Partition Fractions\", \n",
    "                fontsize=12)\n",
    " \n",
    "MM1.set_ylabel(\"Mean Test Error\",\n",
    "                fontsize=12)\n",
    "MM1"
   ]
  },
  {
   "cell_type": "markdown",
   "metadata": {},
   "source": [
    "### In the linegraph above is represented different values for the mean of the test error over 500 runs by the fraction of partitioning the training set.\n",
    "\n",
    "### It is clear that it exists an optimal value for partition fraction such that minimizes the mean test error."
   ]
  },
  {
   "cell_type": "code",
   "execution_count": 43,
   "metadata": {
    "collapsed": false
   },
   "outputs": [
    {
     "data": {
      "text/plain": [
       "<matplotlib.axes._subplots.AxesSubplot at 0x20a03ea2860>"
      ]
     },
     "execution_count": 43,
     "metadata": {},
     "output_type": "execute_result"
    },
    {
     "data": {
      "image/png": "[encoded data removed]",
      "text/plain": [
       "<Figure size 432x288 with 1 Axes>"
      ]
     },
     "metadata": {
      "needs_background": "light"
     },
     "output_type": "display_data"
    }
   ],
   "source": [
    "MMed1 = sns.pointplot(fractions,np.asarray(df_results1.median(axis=0)))\n",
    "MMed1.axes.set_title(\"Dataset MONK-1: Pruning Optimal Partition Study \\n (over 500 runs)\",\n",
    "                    fontsize=14)\n",
    "\n",
    "MMed1.set_xlabel(\"Training Set Partition Fractions\", \n",
    "                fontsize=12)\n",
    " \n",
    "MMed1.set_ylabel(\"Median of Test Error\",\n",
    "                fontsize=12)\n",
    "MMed1"
   ]
  },
  {
   "cell_type": "markdown",
   "metadata": {},
   "source": [
    "### In the linegraph above is represented different values for the median of the test error over 500 runs by the fraction of partitioning the training set. The median is a better statistic than the mean, since it is more robust in respect to new sample values, even though the mean is a non-biased estimator.\n",
    "\n",
    "### We can see, thus, that the optimal value for the mean is also the optimal value for the median."
   ]
  },
  {
   "cell_type": "code",
   "execution_count": 44,
   "metadata": {
    "collapsed": false
   },
   "outputs": [
    {
     "data": {
      "text/plain": [
       "<matplotlib.axes._subplots.AxesSubplot at 0x20a03efc208>"
      ]
     },
     "execution_count": 44,
     "metadata": {},
     "output_type": "execute_result"
    },
    {
     "data": {
      "image/png": "[encoded data removed]",
      "text/plain": [
       "<Figure size 432x288 with 1 Axes>"
      ]
     },
     "metadata": {
      "needs_background": "light"
     },
     "output_type": "display_data"
    }
   ],
   "source": [
    "df_results1 = pd.DataFrame(1-results1,columns=fractions)\n",
    "\n",
    "dpM1 = sns.stripplot(data=df_results1,jitter=True,marker='o',alpha=0.2,color='black')\n",
    "\n",
    "dpM1.axes.set_title(\"Dataset MONK-1: 500 Data Points for each fraction\",\n",
    "                    fontsize=14)\n",
    "\n",
    "dpM1.set_xlabel(\"Training Set Partition Fractions\", \n",
    "                fontsize=12)\n",
    " \n",
    "dpM1.set_ylabel(\"Test Error\",\n",
    "                fontsize=12)\n",
    "dpM1"
   ]
  },
  {
   "cell_type": "markdown",
   "metadata": {},
   "source": [
    "### This graph show the data points from the 500 simulation runs used for the pruning procedure."
   ]
  },
  {
   "cell_type": "markdown",
   "metadata": {},
   "source": [
    "### MONK-3"
   ]
  },
  {
   "cell_type": "code",
   "execution_count": 49,
   "metadata": {
    "collapsed": false
   },
   "outputs": [
    {
     "name": "stdout",
     "output_type": "stream",
     "text": [
      "[[0.88888889 0.9537037  0.88888889 0.97222222 0.97222222 0.88888889]\n",
      " [0.88888889 0.97222222 0.94444444 0.97222222 0.97222222 0.94444444]\n",
      " [0.86111111 0.87962963 1.         0.97222222 1.         0.96296296]\n",
      " ...\n",
      " [0.91666667 0.97222222 0.97222222 0.9537037  0.99074074 0.91666667]\n",
      " [0.88888889 0.97222222 0.97222222 0.97222222 1.         0.97222222]\n",
      " [0.88888889 1.         0.92592593 1.         0.89351852 0.97222222]]\n"
     ]
    }
   ],
   "source": [
    "runs = 500\n",
    "fractions = [0.3,0.4,0.5,0.6,0.7,0.8]\n",
    "m3 = m.monk3\n",
    "\n",
    "def partition(data, fraction):\n",
    "    ldata = list(data)\n",
    "    random.shuffle(ldata)\n",
    "    breakPoint = int(len(ldata) * fraction)\n",
    "    return ldata[:breakPoint], ldata[breakPoint:]\n",
    "\n",
    "monk3test = m.monk3test\n",
    "results = np.empty((runs,len(fractions))) # store all test Erros over all fractions and runs\n",
    "fi = 0\n",
    "for f in fractions:\n",
    "    for r in range(0,runs):\n",
    "        monk3train, monk3val = partition(m.monk3, f) \n",
    "        \n",
    "        T=d.buildTree(monk3train, m.attributes)\n",
    "        prunecheckprev = d.check(T,monk3val)\n",
    "        \n",
    "        P = d.allPruned(T)\n",
    "        checks =[]\n",
    "        for i in range(0,len(P)):\n",
    "            checks.append(d.check(P[i],monk3val))\n",
    "        prunecheckpos = max(checks)\n",
    "        \n",
    "        # stop pruning when all the pruned trees perform worse than the current candidate.\n",
    "        while prunecheckprev <= prunecheckpos:\n",
    "            T = P[checks.index(max(checks))]\n",
    "            prunecheckprev = prunecheckpos\n",
    "            \n",
    "            P = d.allPruned(T)\n",
    "            checks =[]\n",
    "            for i in range(0,len(P)):\n",
    "                checks.append(d.check(P[i],monk3val))\n",
    "            prunecheckpos = max(checks)\n",
    "        \n",
    "        results[r,fi] = float(d.check(T,monk3test))\n",
    "    fi += 1\n",
    "\n",
    "results3 = results\n",
    "print(results3)           \n"
   ]
  },
  {
   "cell_type": "code",
   "execution_count": 50,
   "metadata": {
    "collapsed": false
   },
   "outputs": [
    {
     "data": {
      "text/plain": [
       "<matplotlib.axes._subplots.AxesSubplot at 0x20a04109550>"
      ]
     },
     "execution_count": 50,
     "metadata": {},
     "output_type": "execute_result"
    },
    {
     "data": {
      "image/png": "[encoded data removed]",
      "text/plain": [
       "<Figure size 432x288 with 1 Axes>"
      ]
     },
     "metadata": {
      "needs_background": "light"
     },
     "output_type": "display_data"
    }
   ],
   "source": [
    "df_results3 = pd.DataFrame(1-results3,columns=fractions)\n",
    "\n",
    "bplotM3 = sns.boxplot(data=df_results3,\n",
    "                        width=0.5,\n",
    "                        palette=\"colorblind\",\n",
    "                         showmeans=True, showfliers=False)\n",
    "#boxplotM1 = sns.stripplot(data=df_results,jitter=True,marker='o',alpha=0.05,color='black')\n",
    "bplotM3.axes.set_title(\"Dataset MONK-3: Pruning Optimal Partition Study \\n (over 500 runs)\",\n",
    "                    fontsize=14)\n",
    "\n",
    "bplotM3.set_xlabel(\"Training Set Partition Fractions\", \n",
    "                fontsize=12)\n",
    " \n",
    "bplotM3.set_ylabel(\"Test Error\",\n",
    "                fontsize=12)\n",
    "bplotM3"
   ]
  },
  {
   "cell_type": "markdown",
   "metadata": {},
   "source": [
    "### The boxplot above is seggregated by the fractions used for partitioning the training set into a validation set. \n",
    "\n",
    "### It can be noted that the optimal value for the mean has much less variance than the other values, indicating that the distribution of the error is not so affected by new simulation runs. The results, then, could be more precise with that type of partition.\n",
    "\n",
    "### For lower partition fractions, we can notice a heavy-tailored right distribution although with a higher median."
   ]
  },
  {
   "cell_type": "code",
   "execution_count": 51,
   "metadata": {
    "collapsed": false,
    "scrolled": true
   },
   "outputs": [
    {
     "data": {
      "text/plain": [
       "<matplotlib.axes._subplots.AxesSubplot at 0x20a051bd1d0>"
      ]
     },
     "execution_count": 51,
     "metadata": {},
     "output_type": "execute_result"
    },
    {
     "data": {
      "image/png": "[encoded data removed]",
      "text/plain": [
       "<Figure size 432x288 with 1 Axes>"
      ]
     },
     "metadata": {
      "needs_background": "light"
     },
     "output_type": "display_data"
    }
   ],
   "source": [
    "MM3 = sns.pointplot(fractions,np.asarray(df_results3.mean(axis=0)))\n",
    "MM3.axes.set_title(\"Dataset MONK-3: Pruning Optimal Partition Study \\n (over 500 runs)\",\n",
    "                    fontsize=14)\n",
    "\n",
    "MM3.set_xlabel(\"Training Set Partition Fractions\", \n",
    "                fontsize=12)\n",
    " \n",
    "MM3.set_ylabel(\"Mean Test Error\",\n",
    "                fontsize=12)\n",
    "MM3"
   ]
  },
  {
   "cell_type": "markdown",
   "metadata": {},
   "source": [
    "### In the linegraph above is represented different values for the mean of the test error over 500 runs by the fraction of partitioning the training set.\n",
    "\n",
    "### It is clear that it exists an optimal value for partition fraction such that minimizes the mean test error. Both values of 0.6 and 0.7 are very close, although 0.7 is the optimal one."
   ]
  },
  {
   "cell_type": "code",
   "execution_count": 52,
   "metadata": {
    "collapsed": false
   },
   "outputs": [
    {
     "data": {
      "text/plain": [
       "<matplotlib.axes._subplots.AxesSubplot at 0x20a05229eb8>"
      ]
     },
     "execution_count": 52,
     "metadata": {},
     "output_type": "execute_result"
    },
    {
     "data": {
      "image/png": "[encoded data removed]",
      "text/plain": [
       "<Figure size 432x288 with 1 Axes>"
      ]
     },
     "metadata": {
      "needs_background": "light"
     },
     "output_type": "display_data"
    }
   ],
   "source": [
    "MMed3 = sns.pointplot(fractions,np.asarray(df_results3.median(axis=0)))\n",
    "MMed3.axes.set_title(\"Dataset MONK-3: Pruning Optimal Partition Study \\n (over 500 runs)\",\n",
    "                    fontsize=14)\n",
    "\n",
    "MMed3.set_xlabel(\"Training Set Partition Fractions\", \n",
    "                fontsize=12)\n",
    " \n",
    "MMed3.set_ylabel(\"Median of Test Error\",\n",
    "                fontsize=12)\n",
    "MMed3"
   ]
  },
  {
   "cell_type": "markdown",
   "metadata": {},
   "source": [
    "### In the linegraph above is represented different values for the median of the test error over 500 runs by the fraction of partitioning the training set. \n",
    "\n",
    "### We can see, thus, that the optimal value for the mean is also the optimal value for the median. Moreover, the statistics of f = 0.6 or f = 0.7 are both equally robust. This suggests that the process for partitioning both MONK-1 and MONK-3 datasets could be padronized without the cost of higher error."
   ]
  },
  {
   "cell_type": "code",
   "execution_count": 53,
   "metadata": {
    "collapsed": false,
    "scrolled": true
   },
   "outputs": [
    {
     "data": {
      "text/plain": [
       "<matplotlib.axes._subplots.AxesSubplot at 0x20a02196208>"
      ]
     },
     "execution_count": 53,
     "metadata": {},
     "output_type": "execute_result"
    },
    {
     "data": {
      "image/png": "[encoded data removed]",
      "text/plain": [
       "<Figure size 432x288 with 1 Axes>"
      ]
     },
     "metadata": {
      "needs_background": "light"
     },
     "output_type": "display_data"
    }
   ],
   "source": [
    "df_results3 = pd.DataFrame(1-results3,columns=fractions)\n",
    "\n",
    "dpM3 = sns.stripplot(data=df_results3,jitter=True,marker='o',alpha=0.2,color='black')\n",
    "\n",
    "dpM3.axes.set_title(\"Dataset MONK-3: 500 Data Points for each fraction\",\n",
    "                    fontsize=14)\n",
    "\n",
    "dpM3.set_xlabel(\"Training Set Partition Fractions\", \n",
    "                fontsize=12)\n",
    " \n",
    "dpM3.set_ylabel(\"Test Error\",\n",
    "                fontsize=12)\n",
    "dpM3"
   ]
  },
  {
   "cell_type": "code",
   "execution_count": null,
   "metadata": {
    "collapsed": false
   },
   "outputs": [],
   "source": []
  },
  {
   "cell_type": "markdown",
   "metadata": {},
   "source": [
    "### This graph show the data points from the 500 simulation runs used for the pruning procedure."
   ]
  },
  {
   "cell_type": "markdown",
   "metadata": {},
   "source": [
    "## Conclusions:"
   ]
  },
  {
   "cell_type": "markdown",
   "metadata": {},
   "source": [
    "## When the validation set is too small, our estimation of the error is not so accurate. Thus, we do prunning in some ocasions that we shouldn´t.\n",
    "\n",
    "## When the training set is too small, then the model is not properly trained. Thus, the estimation of the error has higher variance."
   ]
  }
 ],
 "metadata": {
  "kernelspec": {
   "display_name": "Python 2",
   "language": "python",
   "name": "python2"
  },
  "language_info": {
   "codemirror_mode": {
    "name": "ipython",
    "version": 2
   },
   "file_extension": ".py",
   "mimetype": "text/x-python",
   "name": "python",
   "nbconvert_exporter": "python",
   "pygments_lexer": "ipython2",
   "version": "2.7.13"
  }
 },
 "nbformat": 4,
 "nbformat_minor": 2
}
