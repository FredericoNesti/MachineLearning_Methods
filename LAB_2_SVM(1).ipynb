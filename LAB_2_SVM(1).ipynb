{
 "cells": [
  {
   "cell_type": "markdown",
   "metadata": {},
   "source": [
    "# SVM\n"
   ]
  },
  {
   "cell_type": "code",
   "execution_count": 1,
   "metadata": {},
   "outputs": [],
   "source": [
    "import numpy as np\n",
    "import random,math\n",
    "from scipy.optimize import minimize\n",
    "import matplotlib.pyplot as plt"
   ]
  },
  {
   "cell_type": "markdown",
   "metadata": {},
   "source": [
    "# 1\n",
    "\n",
    "## First Dataset: linearly-separable and non-overlapping case\n",
    "\n",
    "## 1.1 Linear Kernel"
   ]
  },
  {
   "cell_type": "code",
   "execution_count": 56,
   "metadata": {},
   "outputs": [
    {
     "data": {
      "image/png": "[encoded data removed]",
      "text/plain": [
       "<Figure size 432x288 with 1 Axes>"
      ]
     },
     "metadata": {
      "needs_background": "light"
     },
     "output_type": "display_data"
    }
   ],
   "source": [
    "np.random.seed(1027)\n",
    "\n",
    "### Structuring Data \n",
    "\n",
    "classA1 = np.concatenate((np.random.randn(10,2)*0.2+[1.5,0.5],np.random.randn(10,2)*0.2+[-1.5,0.5]))\n",
    "#classA1 = np.random.randn(20,2)*0.2+[1.5,0.5]\n",
    "classB1 = np.random.randn(20,2)*0.2+[0.0,-0.5]\n",
    "\n",
    "inputs1 = np.concatenate((classA1,classB1))\n",
    "targets1 = np.concatenate((np.ones(classA1.shape[0]),-np.ones(classB1.shape[0])))\n",
    "\n",
    "N1 = inputs1.shape[0]\n",
    "\n",
    "permute1 = list(range(N1))\n",
    "random.shuffle(permute1)\n",
    "inputs1 = inputs1[permute1,:]\n",
    "targets1 = targets1[permute1]\n",
    "\n",
    "### Plot data1\n",
    "\n",
    "plt.plot([p[0]for p in classA1],[p[1] for p in classA1],'b.')\n",
    "plt.plot([p[0] for p in classB1],[p[1] for p in classB1],'r.')\n",
    "plt.axis('equal') \n",
    "#plt.savefig('traindata.pdf') \n",
    "plt.show() "
   ]
  },
  {
   "cell_type": "markdown",
   "metadata": {},
   "source": [
    "### Kernels"
   ]
  },
  {
   "cell_type": "code",
   "execution_count": 68,
   "metadata": {},
   "outputs": [],
   "source": [
    "### Kernel functions\n",
    "\n",
    "def Poly_Kernel(x_vec,y_vec,p=2):\n",
    "    return (np.dot(x_vec,y_vec)+1)**p\n",
    "\n",
    "def RBF_Kernel(x_vec,y_vec,σ=1): \n",
    "    return np.exp(-np.dot(x_vec-y_vec,x_vec-y_vec)/2*(σ**2))\n",
    "\n",
    "def Linear_Kernel(x_vec,y_vec): \n",
    "    return np.dot(x_vec,y_vec)\n",
    "def Selected_Kernel(x_vec,y_vec): \n",
    "    return Linear_Kernel(x_vec,y_vec) #change the selected kernel here"
   ]
  },
  {
   "cell_type": "markdown",
   "metadata": {},
   "source": [
    "### Setting Parameters (DATASET 1)"
   ]
  },
  {
   "cell_type": "code",
   "execution_count": 69,
   "metadata": {},
   "outputs": [],
   "source": [
    "### For callable functions\n",
    "α_ini = np.zeros((1,N1))\n",
    "τ = targets1\n",
    "K = np.zeros((N1,N1))\n",
    "P = np.zeros((N1,N1)) \n",
    "for i in range(0,N1):\n",
    "    for j in range(0,N1):\n",
    "        χ = inputs1[i,:]\n",
    "        γ = inputs1[j,:]\n",
    "        K[i,j] = Selected_Kernel(χ,γ)\n",
    "        P[i,j] = τ[i]*τ[j]*Selected_Kernel(χ,γ)\n",
    "        \n",
    "### For callable constraints\n",
    "C = None # slack variable constant\n",
    "B = [(0,C) for b in range(N1)] # Bound"
   ]
  },
  {
   "cell_type": "markdown",
   "metadata": {},
   "source": [
    "### Objective"
   ]
  },
  {
   "cell_type": "code",
   "execution_count": 70,
   "metadata": {},
   "outputs": [],
   "source": [
    "### Objective function and zerofun\n",
    "\n",
    "\"\"\"\n",
    "def Objective(a):\n",
    "    obj = 0.5*np.matmul(np.matmul(a,P),a.T) - np.sum(a) \n",
    "    #obj = 0.5*np.dot(a,np.dot(P,a)) - np.sum(a) \n",
    "    return obj\n",
    "\"\"\"\n",
    "def Objective(a):\n",
    "    obj=0\n",
    "    for i in range(0,P.shape[0]):\n",
    "        for j in range(0,P.shape[0]):\n",
    "            obj += a[i]*a[j]*P[i,j]\n",
    "    \n",
    "    return obj/2 - np.sum(a) \n",
    "### Equality constraint (10)\n",
    "def zerofun(a):\n",
    "    return np.dot(a,τ)"
   ]
  },
  {
   "cell_type": "markdown",
   "metadata": {},
   "source": [
    "### Minimize function"
   ]
  },
  {
   "cell_type": "code",
   "execution_count": 72,
   "metadata": {},
   "outputs": [
    {
     "data": {
      "text/plain": [
       "array([8.94096835e-16, 8.48538622e-17, 0.00000000e+00, 0.00000000e+00,\n",
       "       1.25458375e-14, 2.98222010e-15, 0.00000000e+00, 7.41693884e-15,\n",
       "       0.00000000e+00, 2.07240460e-14, 1.34955752e-14, 4.93305240e-15,\n",
       "       0.00000000e+00, 2.57150233e-15, 0.00000000e+00, 0.00000000e+00,\n",
       "       0.00000000e+00, 2.62006069e-14, 0.00000000e+00, 2.90271657e-15,\n",
       "       0.00000000e+00, 0.00000000e+00, 0.00000000e+00, 0.00000000e+00,\n",
       "       2.51904603e-15, 0.00000000e+00, 4.94113727e+00, 0.00000000e+00,\n",
       "       8.67394546e-16, 0.00000000e+00, 0.00000000e+00, 9.73380438e+00,\n",
       "       1.46749416e+01, 2.72594630e-14, 0.00000000e+00, 5.58144433e-15,\n",
       "       0.00000000e+00, 0.00000000e+00, 0.00000000e+00, 0.00000000e+00])"
      ]
     },
     "execution_count": 72,
     "metadata": {},
     "output_type": "execute_result"
    }
   ],
   "source": [
    "# Minimize\n",
    "\n",
    "ret = minimize(Objective,α_ini,bounds=B,constraints={'type':'eq','fun':zerofun})\n",
    "α_new = ret.x\n",
    "α_new"
   ]
  },
  {
   "cell_type": "markdown",
   "metadata": {},
   "source": [
    "### Extracting Non-zero alphas"
   ]
  },
  {
   "cell_type": "code",
   "execution_count": 73,
   "metadata": {},
   "outputs": [
    {
     "data": {
      "text/plain": [
       "array([ 0.        ,  0.        ,  0.        ,  0.        ,  0.        ,\n",
       "        0.        ,  0.        ,  0.        ,  0.        ,  0.        ,\n",
       "        0.        ,  0.        ,  0.        ,  0.        ,  0.        ,\n",
       "        0.        ,  0.        ,  0.        ,  0.        ,  0.        ,\n",
       "        0.        ,  0.        ,  0.        ,  0.        ,  0.        ,\n",
       "        0.        ,  4.94113727,  0.        ,  0.        ,  0.        ,\n",
       "        0.        ,  9.73380438, 14.67494164,  0.        ,  0.        ,\n",
       "        0.        ,  0.        ,  0.        ,  0.        ,  0.        ])"
      ]
     },
     "execution_count": 73,
     "metadata": {},
     "output_type": "execute_result"
    }
   ],
   "source": [
    "## Extract the non-zero alpha-values\n",
    "\n",
    "thres = 1e-05\n",
    "α = (α_new>=thres)*α_new\n",
    "α"
   ]
  },
  {
   "cell_type": "markdown",
   "metadata": {},
   "source": [
    "### Compute b (bias)"
   ]
  },
  {
   "cell_type": "code",
   "execution_count": 74,
   "metadata": {
    "scrolled": true
   },
   "outputs": [
    {
     "data": {
      "text/plain": [
       "array([-0.18425062,  2.01728664, -2.64410118,  2.90746876, -0.64181962,\n",
       "       -0.7232771 ,  1.51290082, -0.70043247,  1.84153224,  0.79206277,\n",
       "       -0.56896582,  1.4993124 ,  2.93981307,  2.06605286, -2.04321045,\n",
       "        2.5151172 ,  2.91715313,  0.81670767, -2.90934458,  0.99929133,\n",
       "       -2.02319791,  1.16906313,  2.85283173, -1.3308819 ,  2.02864915,\n",
       "       -1.19137418,  0.31859788, -1.77068023, -1.24836322, -2.30930805,\n",
       "       -2.62504677,  0.31860035,  0.31859938, -0.31347435, -2.21913701,\n",
       "       -0.2000322 ,  1.19256355, -2.01390185,  1.65825076,  2.3904999 ])"
      ]
     },
     "execution_count": 74,
     "metadata": {},
     "output_type": "execute_result"
    }
   ],
   "source": [
    "\n",
    "### PROBLEM HERE!!! ###\n",
    "\n",
    "## Calculate b value\n",
    "s_index = np.nonzero(α)\n",
    "s_inputs = inputs1[s_index]\n",
    "\n",
    "\"\"\"b = 0\n",
    "for i in s_index[0]:\n",
    "    b += α[i]*τ[i]*Linear_Kernel(s_inputs[1],inputs1[i,:]) - τ[s_index[0][1]]\"\"\"\n",
    "\n",
    "#b = np.dot(1*(α != 0),(np.dot(α*τ,K) - τ))\n",
    "for i in range(0,α.shape[0]):\n",
    "    b[i] = np.dot(α*τ, K[i,:]) - τ[i]\n",
    "b"
   ]
  },
  {
   "cell_type": "markdown",
   "metadata": {},
   "source": [
    "### Compute Indicator function"
   ]
  },
  {
   "cell_type": "code",
   "execution_count": 75,
   "metadata": {
    "scrolled": true
   },
   "outputs": [],
   "source": [
    "## Indicator fucntion\n",
    "s_index = np.nonzero(α)\n",
    "s_inputs = inputs1[s_index]\n",
    "\n",
    "def Indicator(x,y):\n",
    "    indic = 0\n",
    "    for i in s_index[0]:\n",
    "        indic += α[i]*τ[i]*Selected_Kernel([x,y],inputs1[i,:]) \n",
    "    indic -= b[i]\n",
    "    return indic"
   ]
  },
  {
   "cell_type": "markdown",
   "metadata": {},
   "source": [
    "### Kernel Classification Plot"
   ]
  },
  {
   "cell_type": "code",
   "execution_count": 76,
   "metadata": {},
   "outputs": [
    {
     "data": {
      "image/png": "[encoded data removed]",
      "text/plain": [
       "<Figure size 432x288 with 1 Axes>"
      ]
     },
     "metadata": {
      "needs_background": "light"
     },
     "output_type": "display_data"
    }
   ],
   "source": [
    "#### PLOTS\n",
    "\n",
    "plt.plot([p[0]for p in classA1],[p[1] for p in classA1],'b.')\n",
    "plt.plot([p[0]for p in classB1],[p[1] for p in classB1],'r.')\n",
    "plt.axis('equal') \n",
    "\n",
    "xgrid = np.linspace(-2.5,2.5)\n",
    "ygrid = np.linspace(-1,2.0)\n",
    "grid = np.array([[Indicator(x,y) for x in xgrid] for y in ygrid])\n",
    "plt.contour(xgrid,ygrid,grid,(-1.0,0.0,1.0),colors=('red','black','blue'),linewidths=(1,2,1))\n",
    "\n",
    "#plt.savefig('svmplot.pdf') \n",
    "plt.show() "
   ]
  },
  {
   "cell_type": "code",
   "execution_count": null,
   "metadata": {},
   "outputs": [],
   "source": []
  },
  {
   "cell_type": "code",
   "execution_count": null,
   "metadata": {},
   "outputs": [],
   "source": []
  },
  {
   "cell_type": "code",
   "execution_count": null,
   "metadata": {},
   "outputs": [],
   "source": []
  },
  {
   "cell_type": "code",
   "execution_count": null,
   "metadata": {},
   "outputs": [],
   "source": []
  },
  {
   "cell_type": "code",
   "execution_count": null,
   "metadata": {},
   "outputs": [],
   "source": []
  }
 ],
 "metadata": {
  "kernelspec": {
   "display_name": "Python 3",
   "language": "python",
   "name": "python3"
  },
  "language_info": {
   "codemirror_mode": {
    "name": "ipython",
    "version": 3
   },
   "file_extension": ".py",
   "mimetype": "text/x-python",
   "name": "python",
   "nbconvert_exporter": "python",
   "pygments_lexer": "ipython3",
   "version": "3.7.3"
  }
 },
 "nbformat": 4,
 "nbformat_minor": 2
}
